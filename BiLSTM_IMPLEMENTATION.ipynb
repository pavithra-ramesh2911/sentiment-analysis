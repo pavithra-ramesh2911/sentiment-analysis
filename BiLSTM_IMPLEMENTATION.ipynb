{
  "cells": [
    {
      "cell_type": "code",
      "execution_count": null,
      "metadata": {
        "colab": {
          "base_uri": "https://localhost:8080/",
          "height": 223
        },
        "id": "62TWt_-1lk4_",
        "outputId": "bc7876d5-13ea-473d-d11e-2160e58122db"
      },
      "outputs": [
        {
          "output_type": "stream",
          "name": "stdout",
          "text": [
            "(5999, 2)\n"
          ]
        },
        {
          "output_type": "execute_result",
          "data": {
            "text/html": [
              "\n",
              "  <div id=\"df-effad5c6-ae86-48f9-8392-22d4a3c76438\">\n",
              "    <div class=\"colab-df-container\">\n",
              "      <div>\n",
              "<style scoped>\n",
              "    .dataframe tbody tr th:only-of-type {\n",
              "        vertical-align: middle;\n",
              "    }\n",
              "\n",
              "    .dataframe tbody tr th {\n",
              "        vertical-align: top;\n",
              "    }\n",
              "\n",
              "    .dataframe thead th {\n",
              "        text-align: right;\n",
              "    }\n",
              "</style>\n",
              "<table border=\"1\" class=\"dataframe\">\n",
              "  <thead>\n",
              "    <tr style=\"text-align: right;\">\n",
              "      <th></th>\n",
              "      <th>Summary</th>\n",
              "      <th>Score</th>\n",
              "    </tr>\n",
              "  </thead>\n",
              "  <tbody>\n",
              "    <tr>\n",
              "      <th>0</th>\n",
              "      <td>Good Quality Dog Food</td>\n",
              "      <td>5</td>\n",
              "    </tr>\n",
              "    <tr>\n",
              "      <th>1</th>\n",
              "      <td>Not as Advertised</td>\n",
              "      <td>1</td>\n",
              "    </tr>\n",
              "    <tr>\n",
              "      <th>2</th>\n",
              "      <td>\"Delight\" says it all</td>\n",
              "      <td>4</td>\n",
              "    </tr>\n",
              "    <tr>\n",
              "      <th>3</th>\n",
              "      <td>Cough Medicine</td>\n",
              "      <td>2</td>\n",
              "    </tr>\n",
              "    <tr>\n",
              "      <th>4</th>\n",
              "      <td>Great taffy</td>\n",
              "      <td>5</td>\n",
              "    </tr>\n",
              "  </tbody>\n",
              "</table>\n",
              "</div>\n",
              "      <button class=\"colab-df-convert\" onclick=\"convertToInteractive('df-effad5c6-ae86-48f9-8392-22d4a3c76438')\"\n",
              "              title=\"Convert this dataframe to an interactive table.\"\n",
              "              style=\"display:none;\">\n",
              "        \n",
              "  <svg xmlns=\"http://www.w3.org/2000/svg\" height=\"24px\"viewBox=\"0 0 24 24\"\n",
              "       width=\"24px\">\n",
              "    <path d=\"M0 0h24v24H0V0z\" fill=\"none\"/>\n",
              "    <path d=\"M18.56 5.44l.94 2.06.94-2.06 2.06-.94-2.06-.94-.94-2.06-.94 2.06-2.06.94zm-11 1L8.5 8.5l.94-2.06 2.06-.94-2.06-.94L8.5 2.5l-.94 2.06-2.06.94zm10 10l.94 2.06.94-2.06 2.06-.94-2.06-.94-.94-2.06-.94 2.06-2.06.94z\"/><path d=\"M17.41 7.96l-1.37-1.37c-.4-.4-.92-.59-1.43-.59-.52 0-1.04.2-1.43.59L10.3 9.45l-7.72 7.72c-.78.78-.78 2.05 0 2.83L4 21.41c.39.39.9.59 1.41.59.51 0 1.02-.2 1.41-.59l7.78-7.78 2.81-2.81c.8-.78.8-2.07 0-2.86zM5.41 20L4 18.59l7.72-7.72 1.47 1.35L5.41 20z\"/>\n",
              "  </svg>\n",
              "      </button>\n",
              "      \n",
              "  <style>\n",
              "    .colab-df-container {\n",
              "      display:flex;\n",
              "      flex-wrap:wrap;\n",
              "      gap: 12px;\n",
              "    }\n",
              "\n",
              "    .colab-df-convert {\n",
              "      background-color: #E8F0FE;\n",
              "      border: none;\n",
              "      border-radius: 50%;\n",
              "      cursor: pointer;\n",
              "      display: none;\n",
              "      fill: #1967D2;\n",
              "      height: 32px;\n",
              "      padding: 0 0 0 0;\n",
              "      width: 32px;\n",
              "    }\n",
              "\n",
              "    .colab-df-convert:hover {\n",
              "      background-color: #E2EBFA;\n",
              "      box-shadow: 0px 1px 2px rgba(60, 64, 67, 0.3), 0px 1px 3px 1px rgba(60, 64, 67, 0.15);\n",
              "      fill: #174EA6;\n",
              "    }\n",
              "\n",
              "    [theme=dark] .colab-df-convert {\n",
              "      background-color: #3B4455;\n",
              "      fill: #D2E3FC;\n",
              "    }\n",
              "\n",
              "    [theme=dark] .colab-df-convert:hover {\n",
              "      background-color: #434B5C;\n",
              "      box-shadow: 0px 1px 3px 1px rgba(0, 0, 0, 0.15);\n",
              "      filter: drop-shadow(0px 1px 2px rgba(0, 0, 0, 0.3));\n",
              "      fill: #FFFFFF;\n",
              "    }\n",
              "  </style>\n",
              "\n",
              "      <script>\n",
              "        const buttonEl =\n",
              "          document.querySelector('#df-effad5c6-ae86-48f9-8392-22d4a3c76438 button.colab-df-convert');\n",
              "        buttonEl.style.display =\n",
              "          google.colab.kernel.accessAllowed ? 'block' : 'none';\n",
              "\n",
              "        async function convertToInteractive(key) {\n",
              "          const element = document.querySelector('#df-effad5c6-ae86-48f9-8392-22d4a3c76438');\n",
              "          const dataTable =\n",
              "            await google.colab.kernel.invokeFunction('convertToInteractive',\n",
              "                                                     [key], {});\n",
              "          if (!dataTable) return;\n",
              "\n",
              "          const docLinkHtml = 'Like what you see? Visit the ' +\n",
              "            '<a target=\"_blank\" href=https://colab.research.google.com/notebooks/data_table.ipynb>data table notebook</a>'\n",
              "            + ' to learn more about interactive tables.';\n",
              "          element.innerHTML = '';\n",
              "          dataTable['output_type'] = 'display_data';\n",
              "          await google.colab.output.renderOutput(dataTable, element);\n",
              "          const docLink = document.createElement('div');\n",
              "          docLink.innerHTML = docLinkHtml;\n",
              "          element.appendChild(docLink);\n",
              "        }\n",
              "      </script>\n",
              "    </div>\n",
              "  </div>\n",
              "  "
            ],
            "text/plain": [
              "                 Summary  Score\n",
              "0  Good Quality Dog Food      5\n",
              "1      Not as Advertised      1\n",
              "2  \"Delight\" says it all      4\n",
              "3         Cough Medicine      2\n",
              "4            Great taffy      5"
            ]
          },
          "metadata": {},
          "execution_count": 2
        }
      ],
      "source": [
        "review_df = df[['Summary','Score']]\n",
        "\n",
        "print(review_df.shape)\n",
        "review_df.head(5)"
      ]
    },
    {
      "cell_type": "code",
      "execution_count": null,
      "metadata": {
        "colab": {
          "base_uri": "https://localhost:8080/"
        },
        "id": "ItdtmIJul4qH",
        "outputId": "82f20163-fc8f-4fae-a944-c35bbd1e59c5"
      },
      "outputs": [
        {
          "output_type": "execute_result",
          "data": {
            "text/plain": [
              "Index(['Summary', 'Unnamed: 1', 'Unnamed: 2', 'Unnamed: 3', 'Unnamed: 4',\n",
              "       'Unnamed: 5', 'Score'],\n",
              "      dtype='object')"
            ]
          },
          "metadata": {},
          "execution_count": 3
        }
      ],
      "source": [
        "df.columns"
      ]
    },
    {
      "cell_type": "code",
      "execution_count": null,
      "metadata": {
        "colab": {
          "base_uri": "https://localhost:8080/"
        },
        "id": "t3DCTFQOl645",
        "outputId": "dc522870-65aa-4233-959f-2487d4085087"
      },
      "outputs": [
        {
          "output_type": "execute_result",
          "data": {
            "text/plain": [
              "5    3837\n",
              "4     811\n",
              "1     557\n",
              "3     457\n",
              "2     337\n",
              "Name: Score, dtype: int64"
            ]
          },
          "metadata": {},
          "execution_count": 4
        }
      ],
      "source": [
        "review_df[\"Score\"].value_counts()"
      ]
    },
    {
      "cell_type": "code",
      "execution_count": null,
      "metadata": {
        "id": "2WuzxoFgl9G2"
      },
      "outputs": [],
      "source": [
        "df[\"Sentiment\"] = df[\"Score\"].apply(lambda score: \"positive\" if score >= 3 else \"negative\")\n",
        "df['Sentiment'] = df['Sentiment'].map({'positive':'Positive', 'negative':'Negative'})\n",
        "#df['short_review'] =df['data/review_body'].str.decode(\"utf-8\")\n",
        "df = df[[\"Summary\", \"Sentiment\"]]"
      ]
    },
    {
      "cell_type": "code",
      "execution_count": null,
      "metadata": {
        "colab": {
          "base_uri": "https://localhost:8080/",
          "height": 423
        },
        "id": "b-1i4vcmmJ-h",
        "outputId": "f070ceca-8019-45cb-d691-8b318e173bd5"
      },
      "outputs": [
        {
          "output_type": "execute_result",
          "data": {
            "text/html": [
              "\n",
              "  <div id=\"df-1b869350-e969-44ce-8ea8-9ccf79d009dd\">\n",
              "    <div class=\"colab-df-container\">\n",
              "      <div>\n",
              "<style scoped>\n",
              "    .dataframe tbody tr th:only-of-type {\n",
              "        vertical-align: middle;\n",
              "    }\n",
              "\n",
              "    .dataframe tbody tr th {\n",
              "        vertical-align: top;\n",
              "    }\n",
              "\n",
              "    .dataframe thead th {\n",
              "        text-align: right;\n",
              "    }\n",
              "</style>\n",
              "<table border=\"1\" class=\"dataframe\">\n",
              "  <thead>\n",
              "    <tr style=\"text-align: right;\">\n",
              "      <th></th>\n",
              "      <th>Summary</th>\n",
              "      <th>Sentiment</th>\n",
              "    </tr>\n",
              "  </thead>\n",
              "  <tbody>\n",
              "    <tr>\n",
              "      <th>0</th>\n",
              "      <td>Good Quality Dog Food</td>\n",
              "      <td>Positive</td>\n",
              "    </tr>\n",
              "    <tr>\n",
              "      <th>1</th>\n",
              "      <td>Not as Advertised</td>\n",
              "      <td>Negative</td>\n",
              "    </tr>\n",
              "    <tr>\n",
              "      <th>2</th>\n",
              "      <td>\"Delight\" says it all</td>\n",
              "      <td>Positive</td>\n",
              "    </tr>\n",
              "    <tr>\n",
              "      <th>3</th>\n",
              "      <td>Cough Medicine</td>\n",
              "      <td>Negative</td>\n",
              "    </tr>\n",
              "    <tr>\n",
              "      <th>4</th>\n",
              "      <td>Great taffy</td>\n",
              "      <td>Positive</td>\n",
              "    </tr>\n",
              "    <tr>\n",
              "      <th>...</th>\n",
              "      <td>...</td>\n",
              "      <td>...</td>\n",
              "    </tr>\n",
              "    <tr>\n",
              "      <th>5994</th>\n",
              "      <td>«:::D:::» «:::E:::» «:::L:::» «:::I:::» «:::C:...</td>\n",
              "      <td>Positive</td>\n",
              "    </tr>\n",
              "    <tr>\n",
              "      <th>5995</th>\n",
              "      <td>This is not that great</td>\n",
              "      <td>Negative</td>\n",
              "    </tr>\n",
              "    <tr>\n",
              "      <th>5996</th>\n",
              "      <td>The \"paws down\" favorite among canned food!</td>\n",
              "      <td>Positive</td>\n",
              "    </tr>\n",
              "    <tr>\n",
              "      <th>5997</th>\n",
              "      <td>Worked great for my cat</td>\n",
              "      <td>Positive</td>\n",
              "    </tr>\n",
              "    <tr>\n",
              "      <th>5998</th>\n",
              "      <td>IBD food that my cat will actually eat!!!!!!!!</td>\n",
              "      <td>Positive</td>\n",
              "    </tr>\n",
              "  </tbody>\n",
              "</table>\n",
              "<p>5999 rows × 2 columns</p>\n",
              "</div>\n",
              "      <button class=\"colab-df-convert\" onclick=\"convertToInteractive('df-1b869350-e969-44ce-8ea8-9ccf79d009dd')\"\n",
              "              title=\"Convert this dataframe to an interactive table.\"\n",
              "              style=\"display:none;\">\n",
              "        \n",
              "  <svg xmlns=\"http://www.w3.org/2000/svg\" height=\"24px\"viewBox=\"0 0 24 24\"\n",
              "       width=\"24px\">\n",
              "    <path d=\"M0 0h24v24H0V0z\" fill=\"none\"/>\n",
              "    <path d=\"M18.56 5.44l.94 2.06.94-2.06 2.06-.94-2.06-.94-.94-2.06-.94 2.06-2.06.94zm-11 1L8.5 8.5l.94-2.06 2.06-.94-2.06-.94L8.5 2.5l-.94 2.06-2.06.94zm10 10l.94 2.06.94-2.06 2.06-.94-2.06-.94-.94-2.06-.94 2.06-2.06.94z\"/><path d=\"M17.41 7.96l-1.37-1.37c-.4-.4-.92-.59-1.43-.59-.52 0-1.04.2-1.43.59L10.3 9.45l-7.72 7.72c-.78.78-.78 2.05 0 2.83L4 21.41c.39.39.9.59 1.41.59.51 0 1.02-.2 1.41-.59l7.78-7.78 2.81-2.81c.8-.78.8-2.07 0-2.86zM5.41 20L4 18.59l7.72-7.72 1.47 1.35L5.41 20z\"/>\n",
              "  </svg>\n",
              "      </button>\n",
              "      \n",
              "  <style>\n",
              "    .colab-df-container {\n",
              "      display:flex;\n",
              "      flex-wrap:wrap;\n",
              "      gap: 12px;\n",
              "    }\n",
              "\n",
              "    .colab-df-convert {\n",
              "      background-color: #E8F0FE;\n",
              "      border: none;\n",
              "      border-radius: 50%;\n",
              "      cursor: pointer;\n",
              "      display: none;\n",
              "      fill: #1967D2;\n",
              "      height: 32px;\n",
              "      padding: 0 0 0 0;\n",
              "      width: 32px;\n",
              "    }\n",
              "\n",
              "    .colab-df-convert:hover {\n",
              "      background-color: #E2EBFA;\n",
              "      box-shadow: 0px 1px 2px rgba(60, 64, 67, 0.3), 0px 1px 3px 1px rgba(60, 64, 67, 0.15);\n",
              "      fill: #174EA6;\n",
              "    }\n",
              "\n",
              "    [theme=dark] .colab-df-convert {\n",
              "      background-color: #3B4455;\n",
              "      fill: #D2E3FC;\n",
              "    }\n",
              "\n",
              "    [theme=dark] .colab-df-convert:hover {\n",
              "      background-color: #434B5C;\n",
              "      box-shadow: 0px 1px 3px 1px rgba(0, 0, 0, 0.15);\n",
              "      filter: drop-shadow(0px 1px 2px rgba(0, 0, 0, 0.3));\n",
              "      fill: #FFFFFF;\n",
              "    }\n",
              "  </style>\n",
              "\n",
              "      <script>\n",
              "        const buttonEl =\n",
              "          document.querySelector('#df-1b869350-e969-44ce-8ea8-9ccf79d009dd button.colab-df-convert');\n",
              "        buttonEl.style.display =\n",
              "          google.colab.kernel.accessAllowed ? 'block' : 'none';\n",
              "\n",
              "        async function convertToInteractive(key) {\n",
              "          const element = document.querySelector('#df-1b869350-e969-44ce-8ea8-9ccf79d009dd');\n",
              "          const dataTable =\n",
              "            await google.colab.kernel.invokeFunction('convertToInteractive',\n",
              "                                                     [key], {});\n",
              "          if (!dataTable) return;\n",
              "\n",
              "          const docLinkHtml = 'Like what you see? Visit the ' +\n",
              "            '<a target=\"_blank\" href=https://colab.research.google.com/notebooks/data_table.ipynb>data table notebook</a>'\n",
              "            + ' to learn more about interactive tables.';\n",
              "          element.innerHTML = '';\n",
              "          dataTable['output_type'] = 'display_data';\n",
              "          await google.colab.output.renderOutput(dataTable, element);\n",
              "          const docLink = document.createElement('div');\n",
              "          docLink.innerHTML = docLinkHtml;\n",
              "          element.appendChild(docLink);\n",
              "        }\n",
              "      </script>\n",
              "    </div>\n",
              "  </div>\n",
              "  "
            ],
            "text/plain": [
              "                                                Summary Sentiment\n",
              "0                                 Good Quality Dog Food  Positive\n",
              "1                                     Not as Advertised  Negative\n",
              "2                                 \"Delight\" says it all  Positive\n",
              "3                                        Cough Medicine  Negative\n",
              "4                                           Great taffy  Positive\n",
              "...                                                 ...       ...\n",
              "5994  «:::D:::» «:::E:::» «:::L:::» «:::I:::» «:::C:...  Positive\n",
              "5995                             This is not that great  Negative\n",
              "5996        The \"paws down\" favorite among canned food!  Positive\n",
              "5997                            Worked great for my cat  Positive\n",
              "5998     IBD food that my cat will actually eat!!!!!!!!  Positive\n",
              "\n",
              "[5999 rows x 2 columns]"
            ]
          },
          "metadata": {},
          "execution_count": 6
        }
      ],
      "source": [
        "df"
      ]
    },
    {
      "cell_type": "code",
      "execution_count": null,
      "metadata": {
        "id": "H-_9WA1-mLJy"
      },
      "outputs": [],
      "source": [
        "rev = review_df.Summary.values"
      ]
    },
    {
      "cell_type": "code",
      "execution_count": null,
      "metadata": {
        "colab": {
          "base_uri": "https://localhost:8080/"
        },
        "id": "tfFqOnilmOVz",
        "outputId": "d819239f-9f04-41b4-c764-27d6df75f288"
      },
      "outputs": [
        {
          "output_type": "execute_result",
          "data": {
            "text/plain": [
              "Positive    5105\n",
              "Negative     894\n",
              "Name: Sentiment, dtype: int64"
            ]
          },
          "metadata": {},
          "execution_count": 8
        }
      ],
      "source": [
        "df[\"Sentiment\"].value_counts()"
      ]
    },
    {
      "cell_type": "code",
      "execution_count": null,
      "metadata": {
        "colab": {
          "base_uri": "https://localhost:8080/"
        },
        "id": "Y_5l_eLImU7N",
        "outputId": "0a897cd0-7396-4b3e-c8bf-ce385071e213"
      },
      "outputs": [
        {
          "output_type": "execute_result",
          "data": {
            "text/plain": [
              "(array([0, 1, 0, ..., 0, 0, 0]),\n",
              " Index(['Positive', 'Negative'], dtype='object'))"
            ]
          },
          "metadata": {},
          "execution_count": 9
        }
      ],
      "source": [
        "sentiment_label = df.Sentiment.factorize()\n",
        "sentiment_label"
      ]
    },
    {
      "cell_type": "code",
      "execution_count": null,
      "metadata": {
        "colab": {
          "base_uri": "https://localhost:8080/",
          "height": 206
        },
        "id": "c1tvLwaok0bs",
        "outputId": "3d71e822-568b-441a-86a4-f25196136b34"
      },
      "outputs": [
        {
          "output_type": "execute_result",
          "data": {
            "text/html": [
              "\n",
              "  <div id=\"df-8a5c5157-ef51-486f-822a-dc7e6622fad1\">\n",
              "    <div class=\"colab-df-container\">\n",
              "      <div>\n",
              "<style scoped>\n",
              "    .dataframe tbody tr th:only-of-type {\n",
              "        vertical-align: middle;\n",
              "    }\n",
              "\n",
              "    .dataframe tbody tr th {\n",
              "        vertical-align: top;\n",
              "    }\n",
              "\n",
              "    .dataframe thead th {\n",
              "        text-align: right;\n",
              "    }\n",
              "</style>\n",
              "<table border=\"1\" class=\"dataframe\">\n",
              "  <thead>\n",
              "    <tr style=\"text-align: right;\">\n",
              "      <th></th>\n",
              "      <th>Summary</th>\n",
              "      <th>Unnamed: 1</th>\n",
              "      <th>Unnamed: 2</th>\n",
              "      <th>Unnamed: 3</th>\n",
              "      <th>Unnamed: 4</th>\n",
              "      <th>Unnamed: 5</th>\n",
              "      <th>Score</th>\n",
              "    </tr>\n",
              "  </thead>\n",
              "  <tbody>\n",
              "    <tr>\n",
              "      <th>0</th>\n",
              "      <td>Good Quality Dog Food</td>\n",
              "      <td>NaN</td>\n",
              "      <td>NaN</td>\n",
              "      <td>NaN</td>\n",
              "      <td>NaN</td>\n",
              "      <td>NaN</td>\n",
              "      <td>5</td>\n",
              "    </tr>\n",
              "    <tr>\n",
              "      <th>1</th>\n",
              "      <td>Not as Advertised</td>\n",
              "      <td>NaN</td>\n",
              "      <td>NaN</td>\n",
              "      <td>NaN</td>\n",
              "      <td>NaN</td>\n",
              "      <td>NaN</td>\n",
              "      <td>1</td>\n",
              "    </tr>\n",
              "    <tr>\n",
              "      <th>2</th>\n",
              "      <td>\"Delight\" says it all</td>\n",
              "      <td>NaN</td>\n",
              "      <td>NaN</td>\n",
              "      <td>NaN</td>\n",
              "      <td>NaN</td>\n",
              "      <td>NaN</td>\n",
              "      <td>4</td>\n",
              "    </tr>\n",
              "    <tr>\n",
              "      <th>3</th>\n",
              "      <td>Cough Medicine</td>\n",
              "      <td>NaN</td>\n",
              "      <td>NaN</td>\n",
              "      <td>NaN</td>\n",
              "      <td>NaN</td>\n",
              "      <td>NaN</td>\n",
              "      <td>2</td>\n",
              "    </tr>\n",
              "    <tr>\n",
              "      <th>4</th>\n",
              "      <td>Great taffy</td>\n",
              "      <td>NaN</td>\n",
              "      <td>NaN</td>\n",
              "      <td>NaN</td>\n",
              "      <td>NaN</td>\n",
              "      <td>NaN</td>\n",
              "      <td>5</td>\n",
              "    </tr>\n",
              "  </tbody>\n",
              "</table>\n",
              "</div>\n",
              "      <button class=\"colab-df-convert\" onclick=\"convertToInteractive('df-8a5c5157-ef51-486f-822a-dc7e6622fad1')\"\n",
              "              title=\"Convert this dataframe to an interactive table.\"\n",
              "              style=\"display:none;\">\n",
              "        \n",
              "  <svg xmlns=\"http://www.w3.org/2000/svg\" height=\"24px\"viewBox=\"0 0 24 24\"\n",
              "       width=\"24px\">\n",
              "    <path d=\"M0 0h24v24H0V0z\" fill=\"none\"/>\n",
              "    <path d=\"M18.56 5.44l.94 2.06.94-2.06 2.06-.94-2.06-.94-.94-2.06-.94 2.06-2.06.94zm-11 1L8.5 8.5l.94-2.06 2.06-.94-2.06-.94L8.5 2.5l-.94 2.06-2.06.94zm10 10l.94 2.06.94-2.06 2.06-.94-2.06-.94-.94-2.06-.94 2.06-2.06.94z\"/><path d=\"M17.41 7.96l-1.37-1.37c-.4-.4-.92-.59-1.43-.59-.52 0-1.04.2-1.43.59L10.3 9.45l-7.72 7.72c-.78.78-.78 2.05 0 2.83L4 21.41c.39.39.9.59 1.41.59.51 0 1.02-.2 1.41-.59l7.78-7.78 2.81-2.81c.8-.78.8-2.07 0-2.86zM5.41 20L4 18.59l7.72-7.72 1.47 1.35L5.41 20z\"/>\n",
              "  </svg>\n",
              "      </button>\n",
              "      \n",
              "  <style>\n",
              "    .colab-df-container {\n",
              "      display:flex;\n",
              "      flex-wrap:wrap;\n",
              "      gap: 12px;\n",
              "    }\n",
              "\n",
              "    .colab-df-convert {\n",
              "      background-color: #E8F0FE;\n",
              "      border: none;\n",
              "      border-radius: 50%;\n",
              "      cursor: pointer;\n",
              "      display: none;\n",
              "      fill: #1967D2;\n",
              "      height: 32px;\n",
              "      padding: 0 0 0 0;\n",
              "      width: 32px;\n",
              "    }\n",
              "\n",
              "    .colab-df-convert:hover {\n",
              "      background-color: #E2EBFA;\n",
              "      box-shadow: 0px 1px 2px rgba(60, 64, 67, 0.3), 0px 1px 3px 1px rgba(60, 64, 67, 0.15);\n",
              "      fill: #174EA6;\n",
              "    }\n",
              "\n",
              "    [theme=dark] .colab-df-convert {\n",
              "      background-color: #3B4455;\n",
              "      fill: #D2E3FC;\n",
              "    }\n",
              "\n",
              "    [theme=dark] .colab-df-convert:hover {\n",
              "      background-color: #434B5C;\n",
              "      box-shadow: 0px 1px 3px 1px rgba(0, 0, 0, 0.15);\n",
              "      filter: drop-shadow(0px 1px 2px rgba(0, 0, 0, 0.3));\n",
              "      fill: #FFFFFF;\n",
              "    }\n",
              "  </style>\n",
              "\n",
              "      <script>\n",
              "        const buttonEl =\n",
              "          document.querySelector('#df-8a5c5157-ef51-486f-822a-dc7e6622fad1 button.colab-df-convert');\n",
              "        buttonEl.style.display =\n",
              "          google.colab.kernel.accessAllowed ? 'block' : 'none';\n",
              "\n",
              "        async function convertToInteractive(key) {\n",
              "          const element = document.querySelector('#df-8a5c5157-ef51-486f-822a-dc7e6622fad1');\n",
              "          const dataTable =\n",
              "            await google.colab.kernel.invokeFunction('convertToInteractive',\n",
              "                                                     [key], {});\n",
              "          if (!dataTable) return;\n",
              "\n",
              "          const docLinkHtml = 'Like what you see? Visit the ' +\n",
              "            '<a target=\"_blank\" href=https://colab.research.google.com/notebooks/data_table.ipynb>data table notebook</a>'\n",
              "            + ' to learn more about interactive tables.';\n",
              "          element.innerHTML = '';\n",
              "          dataTable['output_type'] = 'display_data';\n",
              "          await google.colab.output.renderOutput(dataTable, element);\n",
              "          const docLink = document.createElement('div');\n",
              "          docLink.innerHTML = docLinkHtml;\n",
              "          element.appendChild(docLink);\n",
              "        }\n",
              "      </script>\n",
              "    </div>\n",
              "  </div>\n",
              "  "
            ],
            "text/plain": [
              "                 Summary  Unnamed: 1  Unnamed: 2  ...  Unnamed: 4  Unnamed: 5  Score\n",
              "0  Good Quality Dog Food         NaN         NaN  ...         NaN         NaN      5\n",
              "1      Not as Advertised         NaN         NaN  ...         NaN         NaN      1\n",
              "2  \"Delight\" says it all         NaN         NaN  ...         NaN         NaN      4\n",
              "3         Cough Medicine         NaN         NaN  ...         NaN         NaN      2\n",
              "4            Great taffy         NaN         NaN  ...         NaN         NaN      5\n",
              "\n",
              "[5 rows x 7 columns]"
            ]
          },
          "metadata": {},
          "execution_count": 1
        }
      ],
      "source": [
        "import pandas as pd\n",
        "df = pd.read_csv(\"/content/review (1).csv\")\n",
        "df.head()"
      ]
    },
    {
      "cell_type": "code",
      "execution_count": null,
      "metadata": {
        "id": "54SB4wRxnNE7"
      },
      "outputs": [],
      "source": [
        "from tensorflow.keras.preprocessing.text import Tokenizer\n",
        "\n",
        "tokenizer = Tokenizer(num_words=5000)\n",
        "\n",
        "tokenizer.fit_on_texts(rev)"
      ]
    },
    {
      "cell_type": "code",
      "execution_count": null,
      "metadata": {
        "id": "Liw5zbnxnRw1"
      },
      "outputs": [],
      "source": [
        "encoded_docs = tokenizer.texts_to_sequences(rev)"
      ]
    },
    {
      "cell_type": "code",
      "execution_count": null,
      "metadata": {
        "id": "3dcSxSlanUo_"
      },
      "outputs": [],
      "source": [
        "from tensorflow.keras.preprocessing.sequence import pad_sequences\n",
        "\n",
        "padded_sequence = pad_sequences(encoded_docs, maxlen=200)"
      ]
    },
    {
      "cell_type": "code",
      "execution_count": null,
      "metadata": {
        "id": "PIYII0UtnWlb"
      },
      "outputs": [],
      "source": [
        "from tensorflow.keras.models import Sequential\n",
        "from tensorflow.keras.layers import LSTM,Dense, Dropout, SpatialDropout1D,Bidirectional\n",
        "from tensorflow.keras.layers import Embedding"
      ]
    },
    {
      "cell_type": "code",
      "execution_count": null,
      "metadata": {
        "id": "z7SA9RY7nYp6"
      },
      "outputs": [],
      "source": [
        "vocab_size = 13234\n",
        "embedding_vector_length = 40\n",
        "model = Sequential()\n",
        "model.add(Embedding(vocab_size, embedding_vector_length, input_length=200))\n",
        "model.add(SpatialDropout1D(0.25))\n",
        "model.add(Bidirectional(LSTM(50, dropout=0.5, recurrent_dropout=0.5)))\n",
        "model.add(Dropout(0.2))\n",
        "model.add(Dense(1, activation='sigmoid'))\n",
        "model.compile(loss='binary_crossentropy',optimizer='adam', metrics=['accuracy'])"
      ]
    },
    {
      "cell_type": "code",
      "execution_count": null,
      "metadata": {
        "colab": {
          "base_uri": "https://localhost:8080/"
        },
        "id": "a7Pooyp_nb0C",
        "outputId": "69d49872-751a-492f-cc7e-7ca28f245fc8"
      },
      "outputs": [
        {
          "output_type": "stream",
          "name": "stdout",
          "text": [
            "Model: \"sequential\"\n",
            "_________________________________________________________________\n",
            " Layer (type)                Output Shape              Param #   \n",
            "=================================================================\n",
            " embedding (Embedding)       (None, 200, 40)           529360    \n",
            "                                                                 \n",
            " spatial_dropout1d (SpatialD  (None, 200, 40)          0         \n",
            " ropout1D)                                                       \n",
            "                                                                 \n",
            " bidirectional (Bidirectiona  (None, 100)              36400     \n",
            " l)                                                              \n",
            "                                                                 \n",
            " dropout (Dropout)           (None, 100)               0         \n",
            "                                                                 \n",
            " dense (Dense)               (None, 1)                 101       \n",
            "                                                                 \n",
            "=================================================================\n",
            "Total params: 565,861\n",
            "Trainable params: 565,861\n",
            "Non-trainable params: 0\n",
            "_________________________________________________________________\n",
            "None\n"
          ]
        }
      ],
      "source": [
        "print(model.summary())"
      ]
    },
    {
      "cell_type": "code",
      "execution_count": null,
      "metadata": {
        "colab": {
          "base_uri": "https://localhost:8080/"
        },
        "id": "JqJHfWgzndju",
        "outputId": "01b580b6-847c-47ff-e400-f8b212a0f34d"
      },
      "outputs": [
        {
          "output_type": "stream",
          "name": "stdout",
          "text": [
            "Epoch 1/50\n",
            "150/150 [==============================] - 60s 397ms/step - loss: 0.0441 - accuracy: 0.9790 - val_loss: 0.6319 - val_accuracy: 0.8758\n",
            "Epoch 2/50\n",
            "150/150 [==============================] - 58s 390ms/step - loss: 0.0404 - accuracy: 0.9821 - val_loss: 0.6296 - val_accuracy: 0.8617\n",
            "Epoch 3/50\n",
            "150/150 [==============================] - 57s 383ms/step - loss: 0.0390 - accuracy: 0.9848 - val_loss: 0.6235 - val_accuracy: 0.8617\n",
            "Epoch 4/50\n",
            "150/150 [==============================] - 57s 381ms/step - loss: 0.0415 - accuracy: 0.9817 - val_loss: 0.6380 - val_accuracy: 0.8575\n",
            "Epoch 5/50\n",
            "150/150 [==============================] - 57s 380ms/step - loss: 0.0400 - accuracy: 0.9827 - val_loss: 0.6457 - val_accuracy: 0.8692\n",
            "Epoch 6/50\n",
            "150/150 [==============================] - 57s 377ms/step - loss: 0.0395 - accuracy: 0.9848 - val_loss: 0.6400 - val_accuracy: 0.8542\n",
            "Epoch 7/50\n",
            "150/150 [==============================] - 57s 378ms/step - loss: 0.0354 - accuracy: 0.9858 - val_loss: 0.6790 - val_accuracy: 0.8517\n",
            "Epoch 8/50\n",
            "150/150 [==============================] - 57s 380ms/step - loss: 0.0358 - accuracy: 0.9850 - val_loss: 0.6638 - val_accuracy: 0.8675\n",
            "Epoch 9/50\n",
            "150/150 [==============================] - 56s 376ms/step - loss: 0.0350 - accuracy: 0.9840 - val_loss: 0.6864 - val_accuracy: 0.8633\n",
            "Epoch 10/50\n",
            "150/150 [==============================] - 57s 377ms/step - loss: 0.0318 - accuracy: 0.9856 - val_loss: 0.6967 - val_accuracy: 0.8617\n",
            "Epoch 11/50\n",
            "150/150 [==============================] - 56s 377ms/step - loss: 0.0383 - accuracy: 0.9833 - val_loss: 0.6899 - val_accuracy: 0.8742\n",
            "Epoch 12/50\n",
            "150/150 [==============================] - 56s 376ms/step - loss: 0.0354 - accuracy: 0.9837 - val_loss: 0.7571 - val_accuracy: 0.8483\n",
            "Epoch 13/50\n",
            "150/150 [==============================] - 56s 375ms/step - loss: 0.0387 - accuracy: 0.9842 - val_loss: 0.6702 - val_accuracy: 0.8558\n",
            "Epoch 14/50\n",
            "150/150 [==============================] - 58s 385ms/step - loss: 0.0365 - accuracy: 0.9840 - val_loss: 0.6717 - val_accuracy: 0.8675\n",
            "Epoch 15/50\n",
            "150/150 [==============================] - 56s 376ms/step - loss: 0.0382 - accuracy: 0.9833 - val_loss: 0.6905 - val_accuracy: 0.8642\n",
            "Epoch 16/50\n",
            "150/150 [==============================] - 56s 374ms/step - loss: 0.0357 - accuracy: 0.9862 - val_loss: 0.7036 - val_accuracy: 0.8683\n",
            "Epoch 17/50\n",
            "150/150 [==============================] - 57s 377ms/step - loss: 0.0312 - accuracy: 0.9860 - val_loss: 0.7259 - val_accuracy: 0.8675\n",
            "Epoch 18/50\n",
            "150/150 [==============================] - 58s 387ms/step - loss: 0.0328 - accuracy: 0.9854 - val_loss: 0.7323 - val_accuracy: 0.8733\n",
            "Epoch 19/50\n",
            "150/150 [==============================] - 58s 386ms/step - loss: 0.0322 - accuracy: 0.9860 - val_loss: 0.7195 - val_accuracy: 0.8617\n",
            "Epoch 20/50\n",
            "150/150 [==============================] - 58s 385ms/step - loss: 0.0346 - accuracy: 0.9867 - val_loss: 0.7258 - val_accuracy: 0.8750\n",
            "Epoch 21/50\n",
            "150/150 [==============================] - 57s 382ms/step - loss: 0.0293 - accuracy: 0.9881 - val_loss: 0.7233 - val_accuracy: 0.8758\n",
            "Epoch 22/50\n",
            "150/150 [==============================] - 56s 375ms/step - loss: 0.0308 - accuracy: 0.9883 - val_loss: 0.7099 - val_accuracy: 0.8658\n",
            "Epoch 23/50\n",
            "150/150 [==============================] - 56s 376ms/step - loss: 0.0315 - accuracy: 0.9858 - val_loss: 0.7429 - val_accuracy: 0.8667\n",
            "Epoch 24/50\n",
            "150/150 [==============================] - 57s 378ms/step - loss: 0.0315 - accuracy: 0.9867 - val_loss: 0.7366 - val_accuracy: 0.8633\n",
            "Epoch 25/50\n",
            "150/150 [==============================] - 58s 386ms/step - loss: 0.0294 - accuracy: 0.9877 - val_loss: 0.7404 - val_accuracy: 0.8592\n",
            "Epoch 26/50\n",
            "150/150 [==============================] - 57s 381ms/step - loss: 0.0282 - accuracy: 0.9867 - val_loss: 0.7455 - val_accuracy: 0.8667\n",
            "Epoch 27/50\n",
            "150/150 [==============================] - 58s 384ms/step - loss: 0.0273 - accuracy: 0.9902 - val_loss: 0.7333 - val_accuracy: 0.8683\n",
            "Epoch 28/50\n",
            "150/150 [==============================] - 58s 384ms/step - loss: 0.0284 - accuracy: 0.9862 - val_loss: 0.7780 - val_accuracy: 0.8683\n",
            "Epoch 29/50\n",
            "150/150 [==============================] - 58s 385ms/step - loss: 0.0297 - accuracy: 0.9885 - val_loss: 0.7673 - val_accuracy: 0.8725\n",
            "Epoch 30/50\n",
            "150/150 [==============================] - 57s 382ms/step - loss: 0.0278 - accuracy: 0.9871 - val_loss: 0.7755 - val_accuracy: 0.8683\n",
            "Epoch 31/50\n",
            "150/150 [==============================] - 56s 376ms/step - loss: 0.0275 - accuracy: 0.9865 - val_loss: 0.7758 - val_accuracy: 0.8708\n",
            "Epoch 32/50\n",
            "150/150 [==============================] - 56s 377ms/step - loss: 0.0307 - accuracy: 0.9858 - val_loss: 0.7344 - val_accuracy: 0.8650\n",
            "Epoch 33/50\n",
            "150/150 [==============================] - 56s 372ms/step - loss: 0.0238 - accuracy: 0.9898 - val_loss: 0.7917 - val_accuracy: 0.8700\n",
            "Epoch 34/50\n",
            "150/150 [==============================] - 56s 371ms/step - loss: 0.0254 - accuracy: 0.9887 - val_loss: 0.7907 - val_accuracy: 0.8725\n",
            "Epoch 35/50\n",
            "150/150 [==============================] - 56s 374ms/step - loss: 0.0266 - accuracy: 0.9902 - val_loss: 0.7728 - val_accuracy: 0.8583\n",
            "Epoch 36/50\n",
            "150/150 [==============================] - 56s 373ms/step - loss: 0.0285 - accuracy: 0.9871 - val_loss: 0.7924 - val_accuracy: 0.8692\n",
            "Epoch 37/50\n",
            "150/150 [==============================] - 56s 372ms/step - loss: 0.0246 - accuracy: 0.9885 - val_loss: 0.8342 - val_accuracy: 0.8683\n",
            "Epoch 38/50\n",
            "150/150 [==============================] - 56s 372ms/step - loss: 0.0235 - accuracy: 0.9906 - val_loss: 0.8287 - val_accuracy: 0.8600\n",
            "Epoch 39/50\n",
            "150/150 [==============================] - 56s 372ms/step - loss: 0.0216 - accuracy: 0.9906 - val_loss: 0.8454 - val_accuracy: 0.8667\n",
            "Epoch 40/50\n",
            "150/150 [==============================] - 56s 372ms/step - loss: 0.0258 - accuracy: 0.9887 - val_loss: 0.8426 - val_accuracy: 0.8675\n",
            "Epoch 41/50\n",
            "150/150 [==============================] - 56s 375ms/step - loss: 0.0248 - accuracy: 0.9890 - val_loss: 0.8348 - val_accuracy: 0.8758\n",
            "Epoch 42/50\n",
            "150/150 [==============================] - 56s 373ms/step - loss: 0.0244 - accuracy: 0.9890 - val_loss: 0.8165 - val_accuracy: 0.8658\n",
            "Epoch 43/50\n",
            "150/150 [==============================] - 56s 372ms/step - loss: 0.0245 - accuracy: 0.9894 - val_loss: 0.8450 - val_accuracy: 0.8725\n",
            "Epoch 44/50\n",
            "150/150 [==============================] - 55s 370ms/step - loss: 0.0240 - accuracy: 0.9898 - val_loss: 0.8616 - val_accuracy: 0.8692\n",
            "Epoch 45/50\n",
            "150/150 [==============================] - 56s 373ms/step - loss: 0.0296 - accuracy: 0.9873 - val_loss: 0.8313 - val_accuracy: 0.8717\n",
            "Epoch 46/50\n",
            "150/150 [==============================] - 57s 383ms/step - loss: 0.0279 - accuracy: 0.9881 - val_loss: 0.8072 - val_accuracy: 0.8700\n",
            "Epoch 47/50\n",
            "150/150 [==============================] - 57s 383ms/step - loss: 0.0222 - accuracy: 0.9890 - val_loss: 0.8636 - val_accuracy: 0.8617\n",
            "Epoch 48/50\n",
            "150/150 [==============================] - 56s 376ms/step - loss: 0.0247 - accuracy: 0.9890 - val_loss: 0.8424 - val_accuracy: 0.8650\n",
            "Epoch 49/50\n",
            "150/150 [==============================] - 57s 381ms/step - loss: 0.0213 - accuracy: 0.9885 - val_loss: 0.8543 - val_accuracy: 0.8708\n",
            "Epoch 50/50\n",
            "150/150 [==============================] - 59s 393ms/step - loss: 0.0277 - accuracy: 0.9883 - val_loss: 0.8483 - val_accuracy: 0.8650\n"
          ]
        }
      ],
      "source": [
        "history = model.fit(padded_sequence,sentiment_label[0],validation_split=0.2, epochs=50, batch_size=32)"
      ]
    },
    {
      "cell_type": "code",
      "execution_count": null,
      "metadata": {
        "colab": {
          "base_uri": "https://localhost:8080/",
          "height": 265
        },
        "id": "mzyYujX6ngJ6",
        "outputId": "ac91b13c-c9dc-4c33-a297-631291563390"
      },
      "outputs": [
        {
          "output_type": "display_data",
          "data": {
            "image/png": "[encoded data removed]",
            "text/plain": [
              "<Figure size 432x288 with 1 Axes>"
            ]
          },
          "metadata": {
            "needs_background": "light"
          }
        }
      ],
      "source": [
        "import matplotlib.pyplot as plt\n",
        "\n",
        "plt.plot(history.history['accuracy'], label='accuracy')\n",
        "plt.plot(history.history['loss'], label='loss')\n",
        "plt.legend()\n",
        "plt.show()"
      ]
    },
    {
      "cell_type": "code",
      "execution_count": null,
      "metadata": {
        "id": "sEDCzaoWoIyO"
      },
      "outputs": [],
      "source": [
        "def predict_sentiment(text):\n",
        "    tw = tokenizer.texts_to_sequences([text])\n",
        "    tw = pad_sequences(tw,maxlen=200)\n",
        "    prediction = int(model.predict(tw).round().item())\n",
        "    print(\"Predicted label: \",sentiment_label[1][prediction])"
      ]
    },
    {
      "cell_type": "code",
      "execution_count": null,
      "metadata": {
        "colab": {
          "base_uri": "https://localhost:8080/"
        },
        "id": "LuItYI_Tplzp",
        "outputId": "7d5d76aa-fb44-4edb-efe8-54598780301a"
      },
      "outputs": [
        {
          "output_type": "stream",
          "name": "stdout",
          "text": [
            "Predicted label:  Negative\n"
          ]
        }
      ],
      "source": [
        "test_sentence1 = \"average\"\n",
        "predict_sentiment(test_sentence1)"
      ]
    },
    {
      "cell_type": "code",
      "execution_count": null,
      "metadata": {
        "colab": {
          "base_uri": "https://localhost:8080/"
        },
        "id": "ViwYLBT1p7VY",
        "outputId": "fce78ad6-caff-4f86-899b-5e45cab5bc6f"
      },
      "outputs": [
        {
          "output_type": "stream",
          "name": "stdout",
          "text": [
            "Predicted label:  Positive\n"
          ]
        }
      ],
      "source": [
        "test_sentence2 = \"best\"\n",
        "predict_sentiment(test_sentence2)"
      ]
    },
    {
      "cell_type": "code",
      "execution_count": null,
      "metadata": {
        "colab": {
          "base_uri": "https://localhost:8080/"
        },
        "id": "eAnaGDn_qHHf",
        "outputId": "165705be-8477-4f35-a137-0e3375fd95a5"
      },
      "outputs": [
        {
          "output_type": "stream",
          "name": "stdout",
          "text": [
            "Predicted label:  Negative\n"
          ]
        }
      ],
      "source": [
        "test_sentence3 = \"worst\"\n",
        "predict_sentiment(test_sentence3)"
      ]
    },
    {
      "cell_type": "code",
      "execution_count": null,
      "metadata": {
        "colab": {
          "base_uri": "https://localhost:8080/"
        },
        "id": "INK75v80aanU",
        "outputId": "14e3e6b1-664f-4bba-b047-308dec9fe07c"
      },
      "outputs": [
        {
          "output_type": "stream",
          "name": "stdout",
          "text": [
            "Predicted label:  Negative\n"
          ]
        }
      ],
      "source": [
        "test_sentence4 = \"not bad\"\n",
        "predict_sentiment(test_sentence4)"
      ]
    },
    {
      "cell_type": "code",
      "execution_count": null,
      "metadata": {
        "colab": {
          "base_uri": "https://localhost:8080/"
        },
        "id": "mqeeaqRWakWx",
        "outputId": "616ac50e-0633-40c5-da54-5041bcb29ab7"
      },
      "outputs": [
        {
          "output_type": "stream",
          "name": "stdout",
          "text": [
            "Predicted label:  Positive\n"
          ]
        }
      ],
      "source": [
        "test_sentence5 = \"good\"\n",
        "predict_sentiment(test_sentence5)"
      ]
    },
    {
      "cell_type": "code",
      "execution_count": null,
      "metadata": {
        "id": "A1bQ0nwEsOBX"
      },
      "outputs": [],
      "source": [
        ""
      ]
    }
  ],
  "metadata": {
    "colab": {
      "name": "BiLSTM_IMPLEMENTATION.ipynb",
      "provenance": []
    },
    "kernelspec": {
      "display_name": "Python 3",
      "name": "python3"
    },
    "language_info": {
      "name": "python"
    }
  },
  "nbformat": 4,
  "nbformat_minor": 0
}