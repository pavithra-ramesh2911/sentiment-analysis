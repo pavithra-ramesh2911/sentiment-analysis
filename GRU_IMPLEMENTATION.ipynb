{
  "nbformat": 4,
  "nbformat_minor": 0,
  "metadata": {
    "colab": {
      "name": "GRU_IMPLEMENTATION.ipynb",
      "provenance": [],
      "collapsed_sections": []
    },
    "kernelspec": {
      "name": "python3",
      "display_name": "Python 3"
    },
    "language_info": {
      "name": "python"
    }
  },
  "cells": [
    {
      "cell_type": "code",
      "execution_count": null,
      "metadata": {
        "colab": {
          "base_uri": "https://localhost:8080/",
          "height": 206
        },
        "id": "c1tvLwaok0bs",
        "outputId": "d73bd59a-75f5-4635-d301-149484b2cba0"
      },
      "outputs": [
        {
          "output_type": "execute_result",
          "data": {
            "text/html": [
              "\n",
              "  <div id=\"df-d6ca7069-eecc-4e94-902e-45b0b935ccb8\">\n",
              "    <div class=\"colab-df-container\">\n",
              "      <div>\n",
              "<style scoped>\n",
              "    .dataframe tbody tr th:only-of-type {\n",
              "        vertical-align: middle;\n",
              "    }\n",
              "\n",
              "    .dataframe tbody tr th {\n",
              "        vertical-align: top;\n",
              "    }\n",
              "\n",
              "    .dataframe thead th {\n",
              "        text-align: right;\n",
              "    }\n",
              "</style>\n",
              "<table border=\"1\" class=\"dataframe\">\n",
              "  <thead>\n",
              "    <tr style=\"text-align: right;\">\n",
              "      <th></th>\n",
              "      <th>Summary</th>\n",
              "      <th>Unnamed: 1</th>\n",
              "      <th>Unnamed: 2</th>\n",
              "      <th>Unnamed: 3</th>\n",
              "      <th>Unnamed: 4</th>\n",
              "      <th>Unnamed: 5</th>\n",
              "      <th>Score</th>\n",
              "    </tr>\n",
              "  </thead>\n",
              "  <tbody>\n",
              "    <tr>\n",
              "      <th>0</th>\n",
              "      <td>Good Quality Dog Food</td>\n",
              "      <td>NaN</td>\n",
              "      <td>NaN</td>\n",
              "      <td>NaN</td>\n",
              "      <td>NaN</td>\n",
              "      <td>NaN</td>\n",
              "      <td>5</td>\n",
              "    </tr>\n",
              "    <tr>\n",
              "      <th>1</th>\n",
              "      <td>Not as Advertised</td>\n",
              "      <td>NaN</td>\n",
              "      <td>NaN</td>\n",
              "      <td>NaN</td>\n",
              "      <td>NaN</td>\n",
              "      <td>NaN</td>\n",
              "      <td>1</td>\n",
              "    </tr>\n",
              "    <tr>\n",
              "      <th>2</th>\n",
              "      <td>\"Delight\" says it all</td>\n",
              "      <td>NaN</td>\n",
              "      <td>NaN</td>\n",
              "      <td>NaN</td>\n",
              "      <td>NaN</td>\n",
              "      <td>NaN</td>\n",
              "      <td>4</td>\n",
              "    </tr>\n",
              "    <tr>\n",
              "      <th>3</th>\n",
              "      <td>Cough Medicine</td>\n",
              "      <td>NaN</td>\n",
              "      <td>NaN</td>\n",
              "      <td>NaN</td>\n",
              "      <td>NaN</td>\n",
              "      <td>NaN</td>\n",
              "      <td>2</td>\n",
              "    </tr>\n",
              "    <tr>\n",
              "      <th>4</th>\n",
              "      <td>Great taffy</td>\n",
              "      <td>NaN</td>\n",
              "      <td>NaN</td>\n",
              "      <td>NaN</td>\n",
              "      <td>NaN</td>\n",
              "      <td>NaN</td>\n",
              "      <td>5</td>\n",
              "    </tr>\n",
              "  </tbody>\n",
              "</table>\n",
              "</div>\n",
              "      <button class=\"colab-df-convert\" onclick=\"convertToInteractive('df-d6ca7069-eecc-4e94-902e-45b0b935ccb8')\"\n",
              "              title=\"Convert this dataframe to an interactive table.\"\n",
              "              style=\"display:none;\">\n",
              "        \n",
              "  <svg xmlns=\"http://www.w3.org/2000/svg\" height=\"24px\"viewBox=\"0 0 24 24\"\n",
              "       width=\"24px\">\n",
              "    <path d=\"M0 0h24v24H0V0z\" fill=\"none\"/>\n",
              "    <path d=\"M18.56 5.44l.94 2.06.94-2.06 2.06-.94-2.06-.94-.94-2.06-.94 2.06-2.06.94zm-11 1L8.5 8.5l.94-2.06 2.06-.94-2.06-.94L8.5 2.5l-.94 2.06-2.06.94zm10 10l.94 2.06.94-2.06 2.06-.94-2.06-.94-.94-2.06-.94 2.06-2.06.94z\"/><path d=\"M17.41 7.96l-1.37-1.37c-.4-.4-.92-.59-1.43-.59-.52 0-1.04.2-1.43.59L10.3 9.45l-7.72 7.72c-.78.78-.78 2.05 0 2.83L4 21.41c.39.39.9.59 1.41.59.51 0 1.02-.2 1.41-.59l7.78-7.78 2.81-2.81c.8-.78.8-2.07 0-2.86zM5.41 20L4 18.59l7.72-7.72 1.47 1.35L5.41 20z\"/>\n",
              "  </svg>\n",
              "      </button>\n",
              "      \n",
              "  <style>\n",
              "    .colab-df-container {\n",
              "      display:flex;\n",
              "      flex-wrap:wrap;\n",
              "      gap: 12px;\n",
              "    }\n",
              "\n",
              "    .colab-df-convert {\n",
              "      background-color: #E8F0FE;\n",
              "      border: none;\n",
              "      border-radius: 50%;\n",
              "      cursor: pointer;\n",
              "      display: none;\n",
              "      fill: #1967D2;\n",
              "      height: 32px;\n",
              "      padding: 0 0 0 0;\n",
              "      width: 32px;\n",
              "    }\n",
              "\n",
              "    .colab-df-convert:hover {\n",
              "      background-color: #E2EBFA;\n",
              "      box-shadow: 0px 1px 2px rgba(60, 64, 67, 0.3), 0px 1px 3px 1px rgba(60, 64, 67, 0.15);\n",
              "      fill: #174EA6;\n",
              "    }\n",
              "\n",
              "    [theme=dark] .colab-df-convert {\n",
              "      background-color: #3B4455;\n",
              "      fill: #D2E3FC;\n",
              "    }\n",
              "\n",
              "    [theme=dark] .colab-df-convert:hover {\n",
              "      background-color: #434B5C;\n",
              "      box-shadow: 0px 1px 3px 1px rgba(0, 0, 0, 0.15);\n",
              "      filter: drop-shadow(0px 1px 2px rgba(0, 0, 0, 0.3));\n",
              "      fill: #FFFFFF;\n",
              "    }\n",
              "  </style>\n",
              "\n",
              "      <script>\n",
              "        const buttonEl =\n",
              "          document.querySelector('#df-d6ca7069-eecc-4e94-902e-45b0b935ccb8 button.colab-df-convert');\n",
              "        buttonEl.style.display =\n",
              "          google.colab.kernel.accessAllowed ? 'block' : 'none';\n",
              "\n",
              "        async function convertToInteractive(key) {\n",
              "          const element = document.querySelector('#df-d6ca7069-eecc-4e94-902e-45b0b935ccb8');\n",
              "          const dataTable =\n",
              "            await google.colab.kernel.invokeFunction('convertToInteractive',\n",
              "                                                     [key], {});\n",
              "          if (!dataTable) return;\n",
              "\n",
              "          const docLinkHtml = 'Like what you see? Visit the ' +\n",
              "            '<a target=\"_blank\" href=https://colab.research.google.com/notebooks/data_table.ipynb>data table notebook</a>'\n",
              "            + ' to learn more about interactive tables.';\n",
              "          element.innerHTML = '';\n",
              "          dataTable['output_type'] = 'display_data';\n",
              "          await google.colab.output.renderOutput(dataTable, element);\n",
              "          const docLink = document.createElement('div');\n",
              "          docLink.innerHTML = docLinkHtml;\n",
              "          element.appendChild(docLink);\n",
              "        }\n",
              "      </script>\n",
              "    </div>\n",
              "  </div>\n",
              "  "
            ],
            "text/plain": [
              "                 Summary  Unnamed: 1  Unnamed: 2  ...  Unnamed: 4  Unnamed: 5  Score\n",
              "0  Good Quality Dog Food         NaN         NaN  ...         NaN         NaN      5\n",
              "1      Not as Advertised         NaN         NaN  ...         NaN         NaN      1\n",
              "2  \"Delight\" says it all         NaN         NaN  ...         NaN         NaN      4\n",
              "3         Cough Medicine         NaN         NaN  ...         NaN         NaN      2\n",
              "4            Great taffy         NaN         NaN  ...         NaN         NaN      5\n",
              "\n",
              "[5 rows x 7 columns]"
            ]
          },
          "metadata": {},
          "execution_count": 3
        }
      ],
      "source": [
        "import pandas as pd\n",
        "df = pd.read_csv(\"/content/review (1).csv\")\n",
        "df.head()"
      ]
    },
    {
      "cell_type": "markdown",
      "source": [
        ""
      ],
      "metadata": {
        "id": "mFHo41KHMWSL"
      }
    },
    {
      "cell_type": "markdown",
      "source": [
        ""
      ],
      "metadata": {
        "id": "_cm0IFoYMWxe"
      }
    },
    {
      "cell_type": "code",
      "source": [
        "review_df = df[['Summary','Score']]\n",
        "\n",
        "print(review_df.shape)\n",
        "review_df.head(5)"
      ],
      "metadata": {
        "colab": {
          "base_uri": "https://localhost:8080/",
          "height": 223
        },
        "id": "62TWt_-1lk4_",
        "outputId": "4c62afb5-8d13-4026-de99-65409e99e5c2"
      },
      "execution_count": null,
      "outputs": [
        {
          "output_type": "stream",
          "name": "stdout",
          "text": [
            "(5999, 2)\n"
          ]
        },
        {
          "output_type": "execute_result",
          "data": {
            "text/html": [
              "\n",
              "  <div id=\"df-606296a2-9353-463d-b52a-34667fd782b2\">\n",
              "    <div class=\"colab-df-container\">\n",
              "      <div>\n",
              "<style scoped>\n",
              "    .dataframe tbody tr th:only-of-type {\n",
              "        vertical-align: middle;\n",
              "    }\n",
              "\n",
              "    .dataframe tbody tr th {\n",
              "        vertical-align: top;\n",
              "    }\n",
              "\n",
              "    .dataframe thead th {\n",
              "        text-align: right;\n",
              "    }\n",
              "</style>\n",
              "<table border=\"1\" class=\"dataframe\">\n",
              "  <thead>\n",
              "    <tr style=\"text-align: right;\">\n",
              "      <th></th>\n",
              "      <th>Summary</th>\n",
              "      <th>Score</th>\n",
              "    </tr>\n",
              "  </thead>\n",
              "  <tbody>\n",
              "    <tr>\n",
              "      <th>0</th>\n",
              "      <td>Good Quality Dog Food</td>\n",
              "      <td>5</td>\n",
              "    </tr>\n",
              "    <tr>\n",
              "      <th>1</th>\n",
              "      <td>Not as Advertised</td>\n",
              "      <td>1</td>\n",
              "    </tr>\n",
              "    <tr>\n",
              "      <th>2</th>\n",
              "      <td>\"Delight\" says it all</td>\n",
              "      <td>4</td>\n",
              "    </tr>\n",
              "    <tr>\n",
              "      <th>3</th>\n",
              "      <td>Cough Medicine</td>\n",
              "      <td>2</td>\n",
              "    </tr>\n",
              "    <tr>\n",
              "      <th>4</th>\n",
              "      <td>Great taffy</td>\n",
              "      <td>5</td>\n",
              "    </tr>\n",
              "  </tbody>\n",
              "</table>\n",
              "</div>\n",
              "      <button class=\"colab-df-convert\" onclick=\"convertToInteractive('df-606296a2-9353-463d-b52a-34667fd782b2')\"\n",
              "              title=\"Convert this dataframe to an interactive table.\"\n",
              "              style=\"display:none;\">\n",
              "        \n",
              "  <svg xmlns=\"http://www.w3.org/2000/svg\" height=\"24px\"viewBox=\"0 0 24 24\"\n",
              "       width=\"24px\">\n",
              "    <path d=\"M0 0h24v24H0V0z\" fill=\"none\"/>\n",
              "    <path d=\"M18.56 5.44l.94 2.06.94-2.06 2.06-.94-2.06-.94-.94-2.06-.94 2.06-2.06.94zm-11 1L8.5 8.5l.94-2.06 2.06-.94-2.06-.94L8.5 2.5l-.94 2.06-2.06.94zm10 10l.94 2.06.94-2.06 2.06-.94-2.06-.94-.94-2.06-.94 2.06-2.06.94z\"/><path d=\"M17.41 7.96l-1.37-1.37c-.4-.4-.92-.59-1.43-.59-.52 0-1.04.2-1.43.59L10.3 9.45l-7.72 7.72c-.78.78-.78 2.05 0 2.83L4 21.41c.39.39.9.59 1.41.59.51 0 1.02-.2 1.41-.59l7.78-7.78 2.81-2.81c.8-.78.8-2.07 0-2.86zM5.41 20L4 18.59l7.72-7.72 1.47 1.35L5.41 20z\"/>\n",
              "  </svg>\n",
              "      </button>\n",
              "      \n",
              "  <style>\n",
              "    .colab-df-container {\n",
              "      display:flex;\n",
              "      flex-wrap:wrap;\n",
              "      gap: 12px;\n",
              "    }\n",
              "\n",
              "    .colab-df-convert {\n",
              "      background-color: #E8F0FE;\n",
              "      border: none;\n",
              "      border-radius: 50%;\n",
              "      cursor: pointer;\n",
              "      display: none;\n",
              "      fill: #1967D2;\n",
              "      height: 32px;\n",
              "      padding: 0 0 0 0;\n",
              "      width: 32px;\n",
              "    }\n",
              "\n",
              "    .colab-df-convert:hover {\n",
              "      background-color: #E2EBFA;\n",
              "      box-shadow: 0px 1px 2px rgba(60, 64, 67, 0.3), 0px 1px 3px 1px rgba(60, 64, 67, 0.15);\n",
              "      fill: #174EA6;\n",
              "    }\n",
              "\n",
              "    [theme=dark] .colab-df-convert {\n",
              "      background-color: #3B4455;\n",
              "      fill: #D2E3FC;\n",
              "    }\n",
              "\n",
              "    [theme=dark] .colab-df-convert:hover {\n",
              "      background-color: #434B5C;\n",
              "      box-shadow: 0px 1px 3px 1px rgba(0, 0, 0, 0.15);\n",
              "      filter: drop-shadow(0px 1px 2px rgba(0, 0, 0, 0.3));\n",
              "      fill: #FFFFFF;\n",
              "    }\n",
              "  </style>\n",
              "\n",
              "      <script>\n",
              "        const buttonEl =\n",
              "          document.querySelector('#df-606296a2-9353-463d-b52a-34667fd782b2 button.colab-df-convert');\n",
              "        buttonEl.style.display =\n",
              "          google.colab.kernel.accessAllowed ? 'block' : 'none';\n",
              "\n",
              "        async function convertToInteractive(key) {\n",
              "          const element = document.querySelector('#df-606296a2-9353-463d-b52a-34667fd782b2');\n",
              "          const dataTable =\n",
              "            await google.colab.kernel.invokeFunction('convertToInteractive',\n",
              "                                                     [key], {});\n",
              "          if (!dataTable) return;\n",
              "\n",
              "          const docLinkHtml = 'Like what you see? Visit the ' +\n",
              "            '<a target=\"_blank\" href=https://colab.research.google.com/notebooks/data_table.ipynb>data table notebook</a>'\n",
              "            + ' to learn more about interactive tables.';\n",
              "          element.innerHTML = '';\n",
              "          dataTable['output_type'] = 'display_data';\n",
              "          await google.colab.output.renderOutput(dataTable, element);\n",
              "          const docLink = document.createElement('div');\n",
              "          docLink.innerHTML = docLinkHtml;\n",
              "          element.appendChild(docLink);\n",
              "        }\n",
              "      </script>\n",
              "    </div>\n",
              "  </div>\n",
              "  "
            ],
            "text/plain": [
              "                 Summary  Score\n",
              "0  Good Quality Dog Food      5\n",
              "1      Not as Advertised      1\n",
              "2  \"Delight\" says it all      4\n",
              "3         Cough Medicine      2\n",
              "4            Great taffy      5"
            ]
          },
          "metadata": {},
          "execution_count": 4
        }
      ]
    },
    {
      "cell_type": "code",
      "source": [
        "review_df.columns"
      ],
      "metadata": {
        "colab": {
          "base_uri": "https://localhost:8080/"
        },
        "id": "ItdtmIJul4qH",
        "outputId": "d8814c66-bbfa-43a3-fb85-9e5e2f8d37b2"
      },
      "execution_count": null,
      "outputs": [
        {
          "output_type": "execute_result",
          "data": {
            "text/plain": [
              "Index(['Summary', 'Score'], dtype='object')"
            ]
          },
          "metadata": {},
          "execution_count": 5
        }
      ]
    },
    {
      "cell_type": "code",
      "source": [
        "review_df[\"Score\"].value_counts()"
      ],
      "metadata": {
        "colab": {
          "base_uri": "https://localhost:8080/"
        },
        "id": "t3DCTFQOl645",
        "outputId": "99db8291-235c-4b78-dc7e-8391d4c3a2c3"
      },
      "execution_count": null,
      "outputs": [
        {
          "output_type": "execute_result",
          "data": {
            "text/plain": [
              "5    3837\n",
              "4     811\n",
              "1     557\n",
              "3     457\n",
              "2     337\n",
              "Name: Score, dtype: int64"
            ]
          },
          "metadata": {},
          "execution_count": 6
        }
      ]
    },
    {
      "cell_type": "code",
      "source": [
        "df[\"Sentiment\"] = df[\"Score\"].apply(lambda score: \"positive\" if score >= 3 else \"negative\")\n",
        "df['Sentiment'] = df['Sentiment'].map({'positive':'Positive', 'negative':'Negative'})\n",
        "#df['short_review'] =df['data/review_body'].str.decode(\"utf-8\")\n",
        "df = df[[\"Summary\", \"Sentiment\"]]"
      ],
      "metadata": {
        "id": "2WuzxoFgl9G2"
      },
      "execution_count": null,
      "outputs": []
    },
    {
      "cell_type": "code",
      "source": [
        "df"
      ],
      "metadata": {
        "colab": {
          "base_uri": "https://localhost:8080/",
          "height": 423
        },
        "id": "b-1i4vcmmJ-h",
        "outputId": "e55fc2a9-5fc6-490a-ca2a-53cddb42f02a"
      },
      "execution_count": null,
      "outputs": [
        {
          "output_type": "execute_result",
          "data": {
            "text/html": [
              "\n",
              "  <div id=\"df-03ae3e7a-58ed-4ed6-b425-2eda2e2d0720\">\n",
              "    <div class=\"colab-df-container\">\n",
              "      <div>\n",
              "<style scoped>\n",
              "    .dataframe tbody tr th:only-of-type {\n",
              "        vertical-align: middle;\n",
              "    }\n",
              "\n",
              "    .dataframe tbody tr th {\n",
              "        vertical-align: top;\n",
              "    }\n",
              "\n",
              "    .dataframe thead th {\n",
              "        text-align: right;\n",
              "    }\n",
              "</style>\n",
              "<table border=\"1\" class=\"dataframe\">\n",
              "  <thead>\n",
              "    <tr style=\"text-align: right;\">\n",
              "      <th></th>\n",
              "      <th>Summary</th>\n",
              "      <th>Sentiment</th>\n",
              "    </tr>\n",
              "  </thead>\n",
              "  <tbody>\n",
              "    <tr>\n",
              "      <th>0</th>\n",
              "      <td>Good Quality Dog Food</td>\n",
              "      <td>Positive</td>\n",
              "    </tr>\n",
              "    <tr>\n",
              "      <th>1</th>\n",
              "      <td>Not as Advertised</td>\n",
              "      <td>Negative</td>\n",
              "    </tr>\n",
              "    <tr>\n",
              "      <th>2</th>\n",
              "      <td>\"Delight\" says it all</td>\n",
              "      <td>Positive</td>\n",
              "    </tr>\n",
              "    <tr>\n",
              "      <th>3</th>\n",
              "      <td>Cough Medicine</td>\n",
              "      <td>Negative</td>\n",
              "    </tr>\n",
              "    <tr>\n",
              "      <th>4</th>\n",
              "      <td>Great taffy</td>\n",
              "      <td>Positive</td>\n",
              "    </tr>\n",
              "    <tr>\n",
              "      <th>...</th>\n",
              "      <td>...</td>\n",
              "      <td>...</td>\n",
              "    </tr>\n",
              "    <tr>\n",
              "      <th>5994</th>\n",
              "      <td>«:::D:::» «:::E:::» «:::L:::» «:::I:::» «:::C:...</td>\n",
              "      <td>Positive</td>\n",
              "    </tr>\n",
              "    <tr>\n",
              "      <th>5995</th>\n",
              "      <td>This is not that great</td>\n",
              "      <td>Negative</td>\n",
              "    </tr>\n",
              "    <tr>\n",
              "      <th>5996</th>\n",
              "      <td>The \"paws down\" favorite among canned food!</td>\n",
              "      <td>Positive</td>\n",
              "    </tr>\n",
              "    <tr>\n",
              "      <th>5997</th>\n",
              "      <td>Worked great for my cat</td>\n",
              "      <td>Positive</td>\n",
              "    </tr>\n",
              "    <tr>\n",
              "      <th>5998</th>\n",
              "      <td>IBD food that my cat will actually eat!!!!!!!!</td>\n",
              "      <td>Positive</td>\n",
              "    </tr>\n",
              "  </tbody>\n",
              "</table>\n",
              "<p>5999 rows × 2 columns</p>\n",
              "</div>\n",
              "      <button class=\"colab-df-convert\" onclick=\"convertToInteractive('df-03ae3e7a-58ed-4ed6-b425-2eda2e2d0720')\"\n",
              "              title=\"Convert this dataframe to an interactive table.\"\n",
              "              style=\"display:none;\">\n",
              "        \n",
              "  <svg xmlns=\"http://www.w3.org/2000/svg\" height=\"24px\"viewBox=\"0 0 24 24\"\n",
              "       width=\"24px\">\n",
              "    <path d=\"M0 0h24v24H0V0z\" fill=\"none\"/>\n",
              "    <path d=\"M18.56 5.44l.94 2.06.94-2.06 2.06-.94-2.06-.94-.94-2.06-.94 2.06-2.06.94zm-11 1L8.5 8.5l.94-2.06 2.06-.94-2.06-.94L8.5 2.5l-.94 2.06-2.06.94zm10 10l.94 2.06.94-2.06 2.06-.94-2.06-.94-.94-2.06-.94 2.06-2.06.94z\"/><path d=\"M17.41 7.96l-1.37-1.37c-.4-.4-.92-.59-1.43-.59-.52 0-1.04.2-1.43.59L10.3 9.45l-7.72 7.72c-.78.78-.78 2.05 0 2.83L4 21.41c.39.39.9.59 1.41.59.51 0 1.02-.2 1.41-.59l7.78-7.78 2.81-2.81c.8-.78.8-2.07 0-2.86zM5.41 20L4 18.59l7.72-7.72 1.47 1.35L5.41 20z\"/>\n",
              "  </svg>\n",
              "      </button>\n",
              "      \n",
              "  <style>\n",
              "    .colab-df-container {\n",
              "      display:flex;\n",
              "      flex-wrap:wrap;\n",
              "      gap: 12px;\n",
              "    }\n",
              "\n",
              "    .colab-df-convert {\n",
              "      background-color: #E8F0FE;\n",
              "      border: none;\n",
              "      border-radius: 50%;\n",
              "      cursor: pointer;\n",
              "      display: none;\n",
              "      fill: #1967D2;\n",
              "      height: 32px;\n",
              "      padding: 0 0 0 0;\n",
              "      width: 32px;\n",
              "    }\n",
              "\n",
              "    .colab-df-convert:hover {\n",
              "      background-color: #E2EBFA;\n",
              "      box-shadow: 0px 1px 2px rgba(60, 64, 67, 0.3), 0px 1px 3px 1px rgba(60, 64, 67, 0.15);\n",
              "      fill: #174EA6;\n",
              "    }\n",
              "\n",
              "    [theme=dark] .colab-df-convert {\n",
              "      background-color: #3B4455;\n",
              "      fill: #D2E3FC;\n",
              "    }\n",
              "\n",
              "    [theme=dark] .colab-df-convert:hover {\n",
              "      background-color: #434B5C;\n",
              "      box-shadow: 0px 1px 3px 1px rgba(0, 0, 0, 0.15);\n",
              "      filter: drop-shadow(0px 1px 2px rgba(0, 0, 0, 0.3));\n",
              "      fill: #FFFFFF;\n",
              "    }\n",
              "  </style>\n",
              "\n",
              "      <script>\n",
              "        const buttonEl =\n",
              "          document.querySelector('#df-03ae3e7a-58ed-4ed6-b425-2eda2e2d0720 button.colab-df-convert');\n",
              "        buttonEl.style.display =\n",
              "          google.colab.kernel.accessAllowed ? 'block' : 'none';\n",
              "\n",
              "        async function convertToInteractive(key) {\n",
              "          const element = document.querySelector('#df-03ae3e7a-58ed-4ed6-b425-2eda2e2d0720');\n",
              "          const dataTable =\n",
              "            await google.colab.kernel.invokeFunction('convertToInteractive',\n",
              "                                                     [key], {});\n",
              "          if (!dataTable) return;\n",
              "\n",
              "          const docLinkHtml = 'Like what you see? Visit the ' +\n",
              "            '<a target=\"_blank\" href=https://colab.research.google.com/notebooks/data_table.ipynb>data table notebook</a>'\n",
              "            + ' to learn more about interactive tables.';\n",
              "          element.innerHTML = '';\n",
              "          dataTable['output_type'] = 'display_data';\n",
              "          await google.colab.output.renderOutput(dataTable, element);\n",
              "          const docLink = document.createElement('div');\n",
              "          docLink.innerHTML = docLinkHtml;\n",
              "          element.appendChild(docLink);\n",
              "        }\n",
              "      </script>\n",
              "    </div>\n",
              "  </div>\n",
              "  "
            ],
            "text/plain": [
              "                                                Summary Sentiment\n",
              "0                                 Good Quality Dog Food  Positive\n",
              "1                                     Not as Advertised  Negative\n",
              "2                                 \"Delight\" says it all  Positive\n",
              "3                                        Cough Medicine  Negative\n",
              "4                                           Great taffy  Positive\n",
              "...                                                 ...       ...\n",
              "5994  «:::D:::» «:::E:::» «:::L:::» «:::I:::» «:::C:...  Positive\n",
              "5995                             This is not that great  Negative\n",
              "5996        The \"paws down\" favorite among canned food!  Positive\n",
              "5997                            Worked great for my cat  Positive\n",
              "5998     IBD food that my cat will actually eat!!!!!!!!  Positive\n",
              "\n",
              "[5999 rows x 2 columns]"
            ]
          },
          "metadata": {},
          "execution_count": 8
        }
      ]
    },
    {
      "cell_type": "code",
      "source": [
        "rev = review_df.Summary.values"
      ],
      "metadata": {
        "id": "H-_9WA1-mLJy"
      },
      "execution_count": null,
      "outputs": []
    },
    {
      "cell_type": "code",
      "source": [
        "df[\"Sentiment\"].value_counts()"
      ],
      "metadata": {
        "colab": {
          "base_uri": "https://localhost:8080/"
        },
        "id": "tfFqOnilmOVz",
        "outputId": "b783e207-ed9b-4ca3-bd1a-ec8491301128"
      },
      "execution_count": null,
      "outputs": [
        {
          "output_type": "execute_result",
          "data": {
            "text/plain": [
              "Positive    5105\n",
              "Negative     894\n",
              "Name: Sentiment, dtype: int64"
            ]
          },
          "metadata": {},
          "execution_count": 10
        }
      ]
    },
    {
      "cell_type": "code",
      "source": [
        "sentiment_label = df.Sentiment.factorize()\n",
        "sentiment_label"
      ],
      "metadata": {
        "colab": {
          "base_uri": "https://localhost:8080/"
        },
        "id": "Y_5l_eLImU7N",
        "outputId": "f82c6c4a-7131-429d-beb5-6171525bf124"
      },
      "execution_count": null,
      "outputs": [
        {
          "output_type": "execute_result",
          "data": {
            "text/plain": [
              "(array([0, 1, 0, ..., 0, 0, 0]),\n",
              " Index(['Positive', 'Negative'], dtype='object'))"
            ]
          },
          "metadata": {},
          "execution_count": 11
        }
      ]
    },
    {
      "cell_type": "code",
      "source": [
        "from tensorflow.keras.preprocessing.text import Tokenizer\n",
        "\n",
        "tokenizer = Tokenizer(num_words=5000)\n",
        "\n",
        "tokenizer.fit_on_texts(rev)"
      ],
      "metadata": {
        "id": "54SB4wRxnNE7"
      },
      "execution_count": null,
      "outputs": []
    },
    {
      "cell_type": "code",
      "source": [
        "encoded_docs = tokenizer.texts_to_sequences(rev)"
      ],
      "metadata": {
        "id": "Liw5zbnxnRw1"
      },
      "execution_count": null,
      "outputs": []
    },
    {
      "cell_type": "code",
      "source": [
        "from tensorflow.keras.preprocessing.sequence import pad_sequences\n",
        "\n",
        "padded_sequence = pad_sequences(encoded_docs, maxlen=200)"
      ],
      "metadata": {
        "id": "3dcSxSlanUo_"
      },
      "execution_count": null,
      "outputs": []
    },
    {
      "cell_type": "code",
      "source": [
        "from tensorflow.keras.models import Sequential\n",
        "from tensorflow.keras.layers import GRU,Flatten,Dense, Dropout, SpatialDropout1D\n",
        "from tensorflow.keras.layers import Embedding"
      ],
      "metadata": {
        "id": "PIYII0UtnWlb"
      },
      "execution_count": null,
      "outputs": []
    },
    {
      "cell_type": "code",
      "source": [
        "vocab_size = 13234\n",
        "embedding_vector_length = 40\n",
        "model = Sequential()\n",
        "model.add(Embedding(vocab_size, embedding_vector_length, input_length=200))\n",
        "model.add(SpatialDropout1D(0.25))\n",
        "model.add(GRU(200))\n",
        "model.add(Dropout(0.2))\n",
        "model.add(Dense(1, activation='sigmoid'))\n",
        "model.compile(loss='binary_crossentropy',optimizer='adam', metrics=['accuracy'])"
      ],
      "metadata": {
        "id": "z7SA9RY7nYp6"
      },
      "execution_count": null,
      "outputs": []
    },
    {
      "cell_type": "code",
      "source": [
        "print(model.summary())"
      ],
      "metadata": {
        "colab": {
          "base_uri": "https://localhost:8080/"
        },
        "id": "a7Pooyp_nb0C",
        "outputId": "0a9b97d5-205e-4e70-82f6-35b082b9ecae"
      },
      "execution_count": null,
      "outputs": [
        {
          "output_type": "stream",
          "name": "stdout",
          "text": [
            "Model: \"sequential\"\n",
            "_________________________________________________________________\n",
            " Layer (type)                Output Shape              Param #   \n",
            "=================================================================\n",
            " embedding (Embedding)       (None, 200, 40)           529360    \n",
            "                                                                 \n",
            " spatial_dropout1d (SpatialD  (None, 200, 40)          0         \n",
            " ropout1D)                                                       \n",
            "                                                                 \n",
            " gru (GRU)                   (None, 200)               145200    \n",
            "                                                                 \n",
            " dropout (Dropout)           (None, 200)               0         \n",
            "                                                                 \n",
            " dense (Dense)               (None, 1)                 201       \n",
            "                                                                 \n",
            "=================================================================\n",
            "Total params: 674,761\n",
            "Trainable params: 674,761\n",
            "Non-trainable params: 0\n",
            "_________________________________________________________________\n",
            "None\n"
          ]
        }
      ]
    },
    {
      "cell_type": "code",
      "source": [
        "history = model.fit(padded_sequence,sentiment_label[0],validation_split=0.2, epochs=50, batch_size=32)"
      ],
      "metadata": {
        "colab": {
          "base_uri": "https://localhost:8080/"
        },
        "id": "JqJHfWgzndju",
        "outputId": "c0c3c4cc-5c3f-4ec6-b5f7-08d1bee7c200"
      },
      "execution_count": null,
      "outputs": [
        {
          "output_type": "stream",
          "name": "stdout",
          "text": [
            "Epoch 1/50\n",
            "150/150 [==============================] - 66s 437ms/step - loss: 0.0172 - accuracy: 0.9923 - val_loss: 0.7540 - val_accuracy: 0.8550\n",
            "Epoch 2/50\n",
            "150/150 [==============================] - 66s 440ms/step - loss: 0.0194 - accuracy: 0.9908 - val_loss: 0.7412 - val_accuracy: 0.8700\n",
            "Epoch 3/50\n",
            "150/150 [==============================] - 66s 439ms/step - loss: 0.0161 - accuracy: 0.9937 - val_loss: 0.7396 - val_accuracy: 0.8592\n",
            "Epoch 4/50\n",
            "150/150 [==============================] - 67s 446ms/step - loss: 0.0162 - accuracy: 0.9919 - val_loss: 0.7402 - val_accuracy: 0.8592\n",
            "Epoch 5/50\n",
            "150/150 [==============================] - 67s 447ms/step - loss: 0.0158 - accuracy: 0.9931 - val_loss: 0.7433 - val_accuracy: 0.8542\n",
            "Epoch 6/50\n",
            "150/150 [==============================] - 67s 446ms/step - loss: 0.0150 - accuracy: 0.9935 - val_loss: 0.7850 - val_accuracy: 0.8592\n",
            "Epoch 7/50\n",
            "150/150 [==============================] - 66s 442ms/step - loss: 0.0168 - accuracy: 0.9927 - val_loss: 0.7624 - val_accuracy: 0.8433\n",
            "Epoch 8/50\n",
            "150/150 [==============================] - 67s 445ms/step - loss: 0.0190 - accuracy: 0.9917 - val_loss: 0.7474 - val_accuracy: 0.8600\n",
            "Epoch 9/50\n",
            "150/150 [==============================] - 66s 443ms/step - loss: 0.0150 - accuracy: 0.9940 - val_loss: 0.7749 - val_accuracy: 0.8333\n",
            "Epoch 10/50\n",
            "150/150 [==============================] - 66s 440ms/step - loss: 0.0160 - accuracy: 0.9933 - val_loss: 0.7460 - val_accuracy: 0.8542\n",
            "Epoch 11/50\n",
            "150/150 [==============================] - 67s 443ms/step - loss: 0.0189 - accuracy: 0.9912 - val_loss: 0.8155 - val_accuracy: 0.8392\n",
            "Epoch 12/50\n",
            "150/150 [==============================] - 68s 451ms/step - loss: 0.0150 - accuracy: 0.9923 - val_loss: 0.7822 - val_accuracy: 0.8650\n",
            "Epoch 13/50\n",
            "150/150 [==============================] - 66s 439ms/step - loss: 0.0248 - accuracy: 0.9904 - val_loss: 0.7071 - val_accuracy: 0.8575\n",
            "Epoch 14/50\n",
            "150/150 [==============================] - 65s 436ms/step - loss: 0.0172 - accuracy: 0.9921 - val_loss: 0.7134 - val_accuracy: 0.8633\n",
            "Epoch 15/50\n",
            "150/150 [==============================] - 65s 434ms/step - loss: 0.0145 - accuracy: 0.9944 - val_loss: 0.7421 - val_accuracy: 0.8683\n",
            "Epoch 16/50\n",
            "150/150 [==============================] - 65s 435ms/step - loss: 0.0140 - accuracy: 0.9937 - val_loss: 0.8103 - val_accuracy: 0.8408\n",
            "Epoch 17/50\n",
            "150/150 [==============================] - 66s 437ms/step - loss: 0.0151 - accuracy: 0.9931 - val_loss: 0.7603 - val_accuracy: 0.8500\n",
            "Epoch 18/50\n",
            "150/150 [==============================] - 65s 435ms/step - loss: 0.0135 - accuracy: 0.9937 - val_loss: 0.8096 - val_accuracy: 0.8458\n",
            "Epoch 19/50\n",
            "150/150 [==============================] - 65s 433ms/step - loss: 0.0135 - accuracy: 0.9933 - val_loss: 0.8111 - val_accuracy: 0.8492\n",
            "Epoch 20/50\n",
            "150/150 [==============================] - 65s 435ms/step - loss: 0.0144 - accuracy: 0.9927 - val_loss: 0.7666 - val_accuracy: 0.8600\n",
            "Epoch 21/50\n",
            "150/150 [==============================] - 67s 448ms/step - loss: 0.0134 - accuracy: 0.9933 - val_loss: 0.7565 - val_accuracy: 0.8583\n",
            "Epoch 22/50\n",
            "150/150 [==============================] - 65s 433ms/step - loss: 0.0119 - accuracy: 0.9940 - val_loss: 0.7999 - val_accuracy: 0.8700\n",
            "Epoch 23/50\n",
            "150/150 [==============================] - 65s 432ms/step - loss: 0.0125 - accuracy: 0.9935 - val_loss: 0.7845 - val_accuracy: 0.8558\n",
            "Epoch 24/50\n",
            "150/150 [==============================] - 64s 430ms/step - loss: 0.0129 - accuracy: 0.9937 - val_loss: 0.8239 - val_accuracy: 0.8558\n",
            "Epoch 25/50\n",
            "150/150 [==============================] - 64s 428ms/step - loss: 0.0150 - accuracy: 0.9933 - val_loss: 0.7802 - val_accuracy: 0.8575\n",
            "Epoch 26/50\n",
            "150/150 [==============================] - 64s 430ms/step - loss: 0.0147 - accuracy: 0.9929 - val_loss: 0.7298 - val_accuracy: 0.8633\n",
            "Epoch 27/50\n",
            "150/150 [==============================] - 64s 425ms/step - loss: 0.0142 - accuracy: 0.9931 - val_loss: 0.7802 - val_accuracy: 0.8583\n",
            "Epoch 28/50\n",
            "150/150 [==============================] - 65s 431ms/step - loss: 0.0105 - accuracy: 0.9946 - val_loss: 0.7901 - val_accuracy: 0.8617\n",
            "Epoch 29/50\n",
            "150/150 [==============================] - 65s 431ms/step - loss: 0.0143 - accuracy: 0.9929 - val_loss: 0.7598 - val_accuracy: 0.8708\n",
            "Epoch 30/50\n",
            "150/150 [==============================] - 64s 429ms/step - loss: 0.0123 - accuracy: 0.9940 - val_loss: 0.7658 - val_accuracy: 0.8675\n",
            "Epoch 31/50\n",
            "150/150 [==============================] - 65s 435ms/step - loss: 0.0111 - accuracy: 0.9942 - val_loss: 0.7968 - val_accuracy: 0.8675\n",
            "Epoch 32/50\n",
            "150/150 [==============================] - 65s 433ms/step - loss: 0.0128 - accuracy: 0.9933 - val_loss: 0.7658 - val_accuracy: 0.8667\n",
            "Epoch 33/50\n",
            "150/150 [==============================] - 64s 429ms/step - loss: 0.0120 - accuracy: 0.9940 - val_loss: 0.7985 - val_accuracy: 0.8675\n",
            "Epoch 34/50\n",
            "150/150 [==============================] - 64s 429ms/step - loss: 0.0149 - accuracy: 0.9931 - val_loss: 0.7671 - val_accuracy: 0.8725\n",
            "Epoch 35/50\n",
            "150/150 [==============================] - 64s 427ms/step - loss: 0.0145 - accuracy: 0.9925 - val_loss: 0.7714 - val_accuracy: 0.8608\n",
            "Epoch 36/50\n",
            "150/150 [==============================] - 65s 434ms/step - loss: 0.0127 - accuracy: 0.9933 - val_loss: 0.8121 - val_accuracy: 0.8683\n",
            "Epoch 37/50\n",
            "150/150 [==============================] - 65s 436ms/step - loss: 0.0162 - accuracy: 0.9927 - val_loss: 0.7781 - val_accuracy: 0.8542\n",
            "Epoch 38/50\n",
            "150/150 [==============================] - 65s 436ms/step - loss: 0.0150 - accuracy: 0.9929 - val_loss: 0.7998 - val_accuracy: 0.8608\n",
            "Epoch 39/50\n",
            "150/150 [==============================] - 66s 437ms/step - loss: 0.0140 - accuracy: 0.9927 - val_loss: 0.8000 - val_accuracy: 0.8517\n",
            "Epoch 40/50\n",
            "150/150 [==============================] - 66s 438ms/step - loss: 0.0114 - accuracy: 0.9942 - val_loss: 0.7942 - val_accuracy: 0.8508\n",
            "Epoch 41/50\n",
            "150/150 [==============================] - 65s 437ms/step - loss: 0.0115 - accuracy: 0.9942 - val_loss: 0.8202 - val_accuracy: 0.8533\n",
            "Epoch 42/50\n",
            "150/150 [==============================] - 66s 437ms/step - loss: 0.0115 - accuracy: 0.9940 - val_loss: 0.8049 - val_accuracy: 0.8550\n",
            "Epoch 43/50\n",
            "150/150 [==============================] - 65s 431ms/step - loss: 0.0129 - accuracy: 0.9933 - val_loss: 0.8166 - val_accuracy: 0.8467\n",
            "Epoch 44/50\n",
            "150/150 [==============================] - 65s 432ms/step - loss: 0.0115 - accuracy: 0.9944 - val_loss: 0.7860 - val_accuracy: 0.8633\n",
            "Epoch 45/50\n",
            "150/150 [==============================] - 65s 437ms/step - loss: 0.0119 - accuracy: 0.9944 - val_loss: 0.8456 - val_accuracy: 0.8617\n",
            "Epoch 46/50\n",
            "150/150 [==============================] - 66s 439ms/step - loss: 0.0120 - accuracy: 0.9935 - val_loss: 0.8061 - val_accuracy: 0.8542\n",
            "Epoch 47/50\n",
            "150/150 [==============================] - 65s 436ms/step - loss: 0.0110 - accuracy: 0.9935 - val_loss: 0.8318 - val_accuracy: 0.8567\n",
            "Epoch 48/50\n",
            "150/150 [==============================] - 66s 439ms/step - loss: 0.0117 - accuracy: 0.9933 - val_loss: 0.8466 - val_accuracy: 0.8517\n",
            "Epoch 49/50\n",
            "150/150 [==============================] - 64s 426ms/step - loss: 0.0113 - accuracy: 0.9942 - val_loss: 0.8588 - val_accuracy: 0.8550\n",
            "Epoch 50/50\n",
            "150/150 [==============================] - 66s 440ms/step - loss: 0.0122 - accuracy: 0.9935 - val_loss: 0.8353 - val_accuracy: 0.8567\n"
          ]
        }
      ]
    },
    {
      "cell_type": "code",
      "source": [
        "import matplotlib.pyplot as plt\n",
        "plt.plot(history.history['accuracy'], label='accuracy')\n",
        "plt.plot(history.history['loss'], label='loss')\n",
        "plt.legend()\n",
        "plt.show()"
      ],
      "metadata": {
        "id": "mzyYujX6ngJ6",
        "colab": {
          "base_uri": "https://localhost:8080/",
          "height": 265
        },
        "outputId": "a49fcd07-2430-4f08-e1a7-03cbc572cd6d"
      },
      "execution_count": null,
      "outputs": [
        {
          "output_type": "display_data",
          "data": {
            "image/png": "[encoded data removed]",
            "text/plain": [
              "<Figure size 432x288 with 1 Axes>"
            ]
          },
          "metadata": {
            "needs_background": "light"
          }
        }
      ]
    },
    {
      "cell_type": "code",
      "source": [
        "def predict_sentiment(text):\n",
        "    tw = tokenizer.texts_to_sequences([text])\n",
        "    tw = pad_sequences(tw,maxlen=200)\n",
        "    prediction = int(model.predict(tw).round().item())\n",
        "    print(\"Predicted label: \",sentiment_label[1][prediction])"
      ],
      "metadata": {
        "id": "sEDCzaoWoIyO"
      },
      "execution_count": null,
      "outputs": []
    },
    {
      "cell_type": "code",
      "source": [
        "test_sentence1 = \"average\"\n",
        "predict_sentiment(test_sentence1)"
      ],
      "metadata": {
        "id": "LuItYI_Tplzp",
        "colab": {
          "base_uri": "https://localhost:8080/"
        },
        "outputId": "f8e65690-3e89-43ac-caf6-40a0f8f802a6"
      },
      "execution_count": null,
      "outputs": [
        {
          "output_type": "stream",
          "name": "stdout",
          "text": [
            "Predicted label:  Negative\n"
          ]
        }
      ]
    },
    {
      "cell_type": "code",
      "source": [
        "test_sentence2 = \"best\"\n",
        "predict_sentiment(test_sentence2)"
      ],
      "metadata": {
        "id": "ViwYLBT1p7VY",
        "colab": {
          "base_uri": "https://localhost:8080/"
        },
        "outputId": "ceb646b2-45f8-4432-ae72-072f2bdb7985"
      },
      "execution_count": null,
      "outputs": [
        {
          "output_type": "stream",
          "name": "stdout",
          "text": [
            "Predicted label:  Positive\n"
          ]
        }
      ]
    },
    {
      "cell_type": "code",
      "source": [
        "test_sentence3 = \"worst\"\n",
        "predict_sentiment(test_sentence3)"
      ],
      "metadata": {
        "id": "eAnaGDn_qHHf",
        "colab": {
          "base_uri": "https://localhost:8080/"
        },
        "outputId": "ca70b397-2cc4-4b50-8cc5-523ee1a101cb"
      },
      "execution_count": null,
      "outputs": [
        {
          "output_type": "stream",
          "name": "stdout",
          "text": [
            "Predicted label:  Negative\n"
          ]
        }
      ]
    },
    {
      "cell_type": "code",
      "source": [
        "test_sentence4 = \"not bad\"\n",
        "predict_sentiment(test_sentence4)"
      ],
      "metadata": {
        "id": "INK75v80aanU",
        "colab": {
          "base_uri": "https://localhost:8080/"
        },
        "outputId": "15c7fd2b-fb99-4add-dbd1-31615050b4a0"
      },
      "execution_count": null,
      "outputs": [
        {
          "output_type": "stream",
          "name": "stdout",
          "text": [
            "Predicted label:  Negative\n"
          ]
        }
      ]
    },
    {
      "cell_type": "code",
      "source": [
        "test_sentence5 = \"good\"\n",
        "predict_sentiment(test_sentence5)"
      ],
      "metadata": {
        "id": "mqeeaqRWakWx",
        "colab": {
          "base_uri": "https://localhost:8080/"
        },
        "outputId": "43bf2e10-20d2-4a3a-c3b2-c728ec225d56"
      },
      "execution_count": null,
      "outputs": [
        {
          "output_type": "stream",
          "name": "stdout",
          "text": [
            "Predicted label:  Positive\n"
          ]
        }
      ]
    },
    {
      "cell_type": "code",
      "source": [
        ""
      ],
      "metadata": {
        "id": "j6vFozxnaq0v"
      },
      "execution_count": null,
      "outputs": []
    }
  ]
}